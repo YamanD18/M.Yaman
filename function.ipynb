{
 "cells": [
  {
   "cell_type": "code",
   "execution_count": 4,
   "id": "b6c97835-b4e9-4740-b9f9-a09331ff6fe2",
   "metadata": {},
   "outputs": [
    {
     "name": "stdout",
     "output_type": "stream",
     "text": [
      "Hasil reverse_per_kata:\n",
      "UKA ATNIC UMAK\n",
      "\n",
      "Hasil urutkan_kalimat:\n",
      "PYTHON HARI BELAJAR SEDANG INI\n",
      "\n",
      "Hasil ganti_vokal (opsi 1):\n",
      "Ak|_| C1nt4 K4m|_|\n",
      "\n",
      "Hasil ganti_vokal (opsi 2):\n",
      "4ku Cinta Kamu\n"
     ]
    }
   ],
   "source": [
    "def reverse_per_kata(kalimat):\n",
    "    kata_list = kalimat.split()\n",
    "    kata_dibalik = [kata[::-1] for kata in kata_list]\n",
    "    return ' '.join(kata_dibalik)\n",
    "\n",
    "def urutkan_kalimat(kalimat, urutan):\n",
    "    kata_list = kalimat.split() \n",
    "    hasil = [kata_list[i - 1] for i in urutan] \n",
    "    return ' '.join(hasil) \n",
    "\n",
    "\n",
    "def ganti_vokal(kalimat, opsi):\n",
    "    hasil = ''\n",
    "    for huruf in kalimat:\n",
    "        if opsi == 1:\n",
    "            if huruf == 'a':\n",
    "                hasil += '4'\n",
    "            elif huruf == 'i':\n",
    "                hasil += '1'\n",
    "            elif huruf == 'u':\n",
    "                hasil += '|_|'\n",
    "            elif huruf == 'e':\n",
    "                hasil += '3'\n",
    "            elif huruf == 'o':\n",
    "                hasil += '0'\n",
    "            else:\n",
    "                hasil += huruf\n",
    "        elif opsi == 2:\n",
    "            if huruf == 'A':\n",
    "                hasil += '4'\n",
    "            elif huruf == 'I':\n",
    "                hasil += '1'\n",
    "            elif huruf == 'U':\n",
    "                hasil += '|_|'\n",
    "            elif huruf == 'E':\n",
    "                hasil += '3'\n",
    "            elif huruf == 'O':\n",
    "                hasil += '0'\n",
    "            else:\n",
    "                hasil += huruf\n",
    "        else:\n",
    "            hasil += huruf \n",
    "    return hasil\n",
    "\n",
    "print(\"Hasil reverse_per_kata:\")\n",
    "print(reverse_per_kata(\"AKU CINTA KAMU\"))\n",
    "\n",
    "print(\"\\nHasil urutkan_kalimat:\")\n",
    "print(urutkan_kalimat(\"HARI INI SEDANG BELAJAR PYTHON\", [5, 1, 4, 3, 2]))\n",
    "\n",
    "print(\"\\nHasil ganti_vokal (opsi 1):\")\n",
    "print(ganti_vokal(\"Aku Cinta Kamu\", 1))\n",
    "\n",
    "print(\"\\nHasil ganti_vokal (opsi 2):\")\n",
    "print(ganti_vokal(\"Aku Cinta Kamu\", 2))\n"
   ]
  }
 ],
 "metadata": {
  "kernelspec": {
   "display_name": "Python 3 (ipykernel)",
   "language": "python",
   "name": "python3"
  },
  "language_info": {
   "codemirror_mode": {
    "name": "ipython",
    "version": 3
   },
   "file_extension": ".py",
   "mimetype": "text/x-python",
   "name": "python",
   "nbconvert_exporter": "python",
   "pygments_lexer": "ipython3",
   "version": "3.12.7"
  }
 },
 "nbformat": 4,
 "nbformat_minor": 5
}
