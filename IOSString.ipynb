{
 "cells": [
  {
   "cell_type": "code",
   "execution_count": 2,
   "id": "7c92f739",
   "metadata": {},
   "outputs": [
    {
     "name": "stdout",
     "output_type": "stream",
     "text": [
      "isikan nama andaYaman\n",
      "Selamat datang Yaman\n",
      "123\n",
      "Andi@Yaman@Budi@King\n"
     ]
    }
   ],
   "source": [
    "name = input(\"isikan nama anda\")\n",
    "print(\"Selamat datang\",name)#menggabungkan variabel dengan string\n",
    "\n",
    "print(\"1\",end='')#mencetak disamping karakter\n",
    "print(\"2\",end='')\n",
    "print(\"3\")\n",
    "\n",
    "#separator\n",
    "print(\"Andi\",\"Yaman\",\"Budi\",\"King\",sep=\"@\")\n"
   ]
  },
  {
   "cell_type": "code",
   "execution_count": 1,
   "id": "61e3babd",
   "metadata": {},
   "outputs": [
    {
     "name": "stdout",
     "output_type": "stream",
     "text": [
      "Isikan bilangan 1 :3\n",
      "Isikan bilangan 2 :7\n",
      "hasil penjumlahan 3 + 7 = 10\n",
      "Hasil penjumlahan 3 + 7 = 10\n"
     ]
    }
   ],
   "source": [
    "val1 = int(input(\"Isikan bilangan 1 :\"))\n",
    "val2 = int(input(\"Isikan bilangan 2 :\"))\n",
    "\n",
    "#hasil penjumlahan 3 + 4 = 7\n",
    "print(\"hasil penjumlahan\",val1,\"+\",val2,\"=\",val1+val2)\n",
    "#string format menggunakan tanda {}\n",
    "print(\"Hasil penjumlahan {} + {} = {}\".format(val1,val2,val1+val2))"
   ]
  },
  {
   "cell_type": "markdown",
   "id": "ee8f21b1",
   "metadata": {},
   "source": [
    "<h1>String format index </h1>"
   ]
  },
  {
   "cell_type": "code",
   "execution_count": null,
   "id": "f038d1c0",
   "metadata": {},
   "outputs": [],
   "source": [
    "fName = input(\"isikan nama depan:\") \n",
    "mName = input(\"isikan nama tengah:\") \n",
    "lName = input(\"isikan nama belakang:\") \n",
    "\n",
    "print(\"nama anda :{} {} {}\".format(fName,mName,lName))\n",
    "print(\"nama anda :{1} {0} {2}\".format(fName,mName,lName))\n",
    "#menggunakan key\n",
    "print(\"nama anda :{depan} {tengah} {belakang}\".format(belakang=lName,depan=fName,tengah=mName))"
   ]
  },
  {
   "cell_type": "markdown",
   "id": "d0276684",
   "metadata": {},
   "source": [
    "<h1>Slicing</h1>\n",
    "    <h2>mengambil strin/karakter dari string berdasarkan indeks</h2>"
   ]
  },
  {
   "cell_type": "code",
   "execution_count": 4,
   "id": "b766e499",
   "metadata": {},
   "outputs": [
    {
     "name": "stdout",
     "output_type": "stream",
     "text": [
      "isikan nama kampus anda:itb\n",
      "i\n",
      "itb\n",
      "b\n",
      "tb\n"
     ]
    }
   ],
   "source": [
    "university = input(\"isikan nama kampus anda:\")\n",
    "#mecetak karakter pertama\n",
    "print(university[0])\n",
    "#mencetak karakter pertama sampai kelima\n",
    "print(university[0:5])\n",
    "#menctak karakter paling akhir\n",
    "print(university[-1])\n",
    "#mencetak karakter ke 2 sampai selesai\n",
    "print(university[1:])\n"
   ]
  },
  {
   "cell_type": "markdown",
   "id": "3e826a63",
   "metadata": {},
   "source": [
    "<h1>Fungsi String</h1>"
   ]
  },
  {
   "cell_type": "code",
   "execution_count": 9,
   "id": "917253fa",
   "metadata": {},
   "outputs": [
    {
     "name": "stdout",
     "output_type": "stream",
     "text": [
      "isikan nama lengkap:yaman dar mawan\n",
      "nama depan yaman\n",
      "nama tengah dar\n",
      "nama belakang mawan\n",
      "nama anda adalah yaman dar mawan\n",
      "-1\n"
     ]
    }
   ],
   "source": [
    "fullName = input(\"isikan nama lengkap:\")\n",
    "#split - untuk memisahkan string berdasarkan karakter tertentu\n",
    "name = fullName.split(' ')\n",
    "print(\"nama depan\",name[0])\n",
    "print(\"nama tengah\",name[1])\n",
    "print(\"nama belakang\",name[2])\n",
    "\n",
    "#print fString\n",
    "print(f\"nama anda adalah {fullName}\") # sering di gunakan\n",
    "\n",
    "#find untuk mencari karakter dalam string\n",
    "#jika di temukan akan mengembalikan posisi indeks\n",
    "#jika tidek menemukan akan mengembalikan nilai-1\n",
    "\n",
    "platMobil = \"N4918\"\n",
    "print(platMobil.find(\"B\"))"
   ]
  },
  {
   "cell_type": "code",
   "execution_count": 27,
   "id": "8b2d25c1",
   "metadata": {},
   "outputs": [
    {
     "name": "stdout",
     "output_type": "stream",
     "text": [
      "isikan email anda :yaman.@gmail.com\n",
      "posisi'@' : 6\n",
      "posisi'.' : 5\n",
      "tidak valid\n"
     ]
    }
   ],
   "source": [
    "email = input(\"isikan email anda :\")\n",
    "cek1 = email.find(\"@\")\n",
    "cek2 = email.find(\".\")\n",
    "print (\"posisi'@' :\",cek1)\n",
    "print (\"posisi'.' :\",cek2)\n",
    "cekValid = \"email valid\" if cek1 -1 and cek2 -1 and cek1 < cek2 else \"tidak valid\"\n",
    "print(cekValid)"
   ]
  },
  {
   "cell_type": "markdown",
   "id": "554aba46",
   "metadata": {},
   "source": [
    "<h1>random</h1>"
   ]
  },
  {
   "cell_type": "code",
   "execution_count": 7,
   "id": "c4ec2a57",
   "metadata": {},
   "outputs": [
    {
     "name": "stdout",
     "output_type": "stream",
     "text": [
      "hasil dari nilai acak adalah0.6436557258676922\n",
      "hasil dari nilai acak bulat adalah 55\n",
      "hasil dari acak bulan adalah jun\n",
      "hasil dari acak hari adalah {'sun'}\n",
      "berapakah60 + 5 :\n",
      "isikan hasilnya:12\n",
      "anda salah\n"
     ]
    }
   ],
   "source": [
    "from random import random\n",
    "nilai = random()\n",
    "print (f\"hasil dari nilai acak adalah{nilai}\")\n",
    "\n",
    "from random import randint\n",
    "nilaiInt = randint(0,100)\n",
    "print(f\"hasil dari nilai acak bulat adalah {nilaiInt}\")\n",
    "\n",
    "from random import choice\n",
    "\n",
    "month = (\"jan\",\"feb\",\"mar\",\"apr\",\"mei\",\"jun\",\"jul\",\"ags\",\"sep\",\"okr\",\"nov\",\"des\")\n",
    "day = ({\"mon\",1},{\"true\",2},{\"wed\",3},{\"thu\",4},{\"fri\",5},{\"sat\",6},{\"sun\",})\n",
    "sMonth = choice(month)\n",
    "sDay = choice(day)\n",
    "print (f\"hasil dari acak bulan adalah {sMonth}\")\n",
    "print (f\"hasil dari acak hari adalah {sDay}\")\n",
    "\n",
    "nilai1 = randint(0,100)\n",
    "nilai2 = randint(0,100)\n",
    "Operator = [\"+\",\"-\",\"/\",\"*\"]\n",
    "sOperator = choice(Operator)\n",
    "print(f\"berapakah{nilai1} {sOperator} {nilai2} :\")\n",
    "jawab = int(input(\"isikan hasilnya:\"))\n",
    "\n",
    "#if else\n",
    "if sOperator == \"+\":\n",
    "    cekJawab = \"anda benar!!\" if jawab == nilai1 + nilai2 else \"anda salah\"\n",
    "elif sOperator == \"-\":\n",
    "    cekJawab = \"anda benar!!\" if jawab == nilai1 - nilai2 else \"anda salah\"\n",
    "elif sOperator == \"/\":\n",
    "    cekJawab = \"anda benar!!\" if jawab == nilai1 / nilai2 else \"anda salah\"\n",
    "elif sOperator == \"*\":\n",
    "    cekJawab = \"anda benar!!\" if jawab == nilai1 * nilai2 else \"anda salah\"\n",
    "print(cekJawab)"
   ]
  },
  {
   "cell_type": "code",
   "execution_count": 11,
   "id": "97678960",
   "metadata": {},
   "outputs": [
    {
     "name": "stdout",
     "output_type": "stream",
     "text": [
      "ENG->IND(1),IND->ENG(2)2\n",
      "apa arti dari minum?\n",
      "isikan jawaban:eat\n",
      "anda salah\n"
     ]
    }
   ],
   "source": [
    "from random import choice\n",
    "kamus = [[\"makan\",\"eat\"],[\"minum\",\"drink\"],[\"membaca\",\"reading\"]]\n",
    "sKamus = choice(kamus)\n",
    "pilihan = int(input(\"ENG->IND(1),IND->ENG(2)\"))\n",
    "if pilihan == 1:\n",
    "    print(f\"apa arti dari {skamus[1]}?\")\n",
    "    jawab = input (\"isikan jawaban:\")\n",
    "    cekTranslate = \"anda benar!!\" if jawab.lower() ==sKamus[0] else \"anda salah\"\n",
    "elif pilihan == 2:\n",
    "    print(f\"apa arti dari {skamus[0]}?\")\n",
    "    jawab = input (\"isikan jawaban:\")\n",
    "    cekTranslate = \"anda benar!!\" if jawab.lower() ==sKamus[0] else \"anda salah\"\n",
    "print(cekTranslate)"
   ]
  }
 ],
 "metadata": {
  "kernelspec": {
   "display_name": "Python 3 (ipykernel)",
   "language": "python",
   "name": "python3"
  },
  "language_info": {
   "codemirror_mode": {
    "name": "ipython",
    "version": 3
   },
   "file_extension": ".py",
   "mimetype": "text/x-python",
   "name": "python",
   "nbconvert_exporter": "python",
   "pygments_lexer": "ipython3",
   "version": "3.9.12"
  }
 },
 "nbformat": 4,
 "nbformat_minor": 5
}
