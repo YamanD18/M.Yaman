{
  "metadata": {
    "kernelspec": {
      "name": "python",
      "display_name": "Python (Pyodide)",
      "language": "python"
    },
    "language_info": {
      "codemirror_mode": {
        "name": "python",
        "version": 3
      },
      "file_extension": ".py",
      "mimetype": "text/x-python",
      "name": "python",
      "nbconvert_exporter": "python",
      "pygments_lexer": "ipython3",
      "version": "3.8"
    }
  },
  "nbformat_minor": 5,
  "nbformat": 4,
  "cells": [
    {
      "id": "aafdfd0a-3483-4713-a927-78aa715cafcc",
      "cell_type": "markdown",
      "source": "<h1>Buatlah biodata sederhana dengan menggunakan fungsi input(), dan output variabel dengan fungsi format().</h1>",
      "metadata": {}
    },
    {
      "id": "ca9c44cd-543f-4b61-a718-c04b598499ef",
      "cell_type": "code",
      "source": "nama = input(\"Isikan Nama Lengkap :\")\nttl = input(\"Isikan Tempat Tanggal Lahir :\")\njk = input(\"Isikan Jenis Kelamin :\")\nalamat = input(\"Isikan Alamat :\")\nnoTel = input(\"Isikan No Telepon :\")\nemail = input(\"Isikan Email :\")\nstatus = input(\"Isikan Status\")\n\nprint(\"\\n==========Biodata Diri==========\")\nprint(\"Nama Lengkap : {}\".format(nama))\nprint(\"Tempat Tanggal Lahir : {}\".format(ttl))\nprint(\"Jenis Kelamin : {}\".format(jk))\nprint(\"Alamat : {}\".format(alamat))\nprint(\"No Telepon : {}\".format(noTel))\nprint(\"Email : {}\".format(email))\nprint(\"Status : {}\".format(status))",
      "metadata": {
        "trusted": true
      },
      "outputs": [
        {
          "name": "stdout",
          "output_type": "stream",
          "text": "\n==========Biodata Diri==========\nNama Lengkap : <PyodideFuture pending cb=[WebLoop._decrement_in_progress()]>\nTempat Tanggal Lahir : <PyodideFuture pending cb=[WebLoop._decrement_in_progress()]>\nJenis Kelamin : <PyodideFuture pending cb=[WebLoop._decrement_in_progress()]>\nAlamat : <PyodideFuture pending cb=[WebLoop._decrement_in_progress()]>\nNo Telepon : <PyodideFuture pending cb=[WebLoop._decrement_in_progress()]>\nEmail : <PyodideFuture pending cb=[WebLoop._decrement_in_progress()]>\nStatus : <PyodideFuture pending cb=[WebLoop._decrement_in_progress()]>\n"
        },
        {
          "output_type": "stream",
          "name": "stdin",
          "text": "Isikan Nama Lengkap : M.Yaman Darmawan \nIsikan Tempat Tanggal Lahir : Sukabumi 18 Desember 2005\nIsikan Jenis Kelamin : Laki - Laki\nIsikan Alamat : Kp.  Karanghlir RT 03 RW 08\nIsikan No Telepon : 085694225629\nIsikan Email : yamandarmawan@gmail.com\nIsikan Status Belum Menikah\n"
        }
      ],
      "execution_count": 3
    },
    {
      "id": "26bd3fb4-24af-4264-bbce-ea91f77e9331",
      "cell_type": "markdown",
      "source": "<h1>Jika terdapat kalimat UNIVERSITAS NUSA PUTRA SUKABUMI ,buatlah kode program untuk menampilkan output: a. putra nusa b. NIVERSITAS NSA PTRA SKABMI c. SUKABUMI PUTRA NUSA UNIVERSITAS d. UNPS e. TAS SAPU BUMI</h1>",
      "metadata": {}
    },
    {
      "id": "cd216bb5-8451-47f9-b074-d235931d2db0",
      "cell_type": "code",
      "source": "kalimat = 'UNIVERSITAS NUSA PUTRA SUKABUMI'\n#a. putra nusa\nprint(\"\\n a.\", end = '')\nprint(kalimat [17:22].lower(), end = ' ')#PUTRA\nprint(kalimat [12:16].lower())#NUSA\n\n#b. NIVERSITAS NSA PTRA SKABMI\nprint(\"\\n b.\", end = '')\nprint(kalimat [1:11], end = ' ')#NIVERSITAS\nprint(kalimat [12], end = '')#N\nprint(kalimat [14:16], end = ' ')#SA\nprint(kalimat [17], end = '')#P\nprint(kalimat [19:-9], end = ' ')#TRA\nprint(kalimat [-8], end = '')#S\nprint(kalimat [-6:-4], end = '')#KA\nprint(kalimat [-4], end = '')#B\nprint(kalimat [-2:])#MI\n\n#c. SUKABUMI PUTRA NUSA UNIVERSITAS\nprint(\"\\n c.\", end = '')\nprint(kalimat [23:], end = ' ')#SUKABUMI\nprint(kalimat [17:22], end = ' ')#PUTRA\nprint(kalimat [12:16], end = ' ')#NUSA\nprint(kalimat [0:11])#UNIVERSITAS\n\n#d. UNPS\nprint(\"\\n d.\", end = '')\nprint(kalimat [0], end = '')#U\nprint(kalimat [12], end = '')#N\nprint(kalimat [17], end = '')#P\nprint(kalimat [23])#S\n\n#e. TAS SAPU BUMI\nprint(\"\\n e.\", end = '')\nprint(kalimat [8:11], end = ' ')#TAS\nprint(kalimat [14:16], end = '')#SA\nprint(kalimat [17:19], end = ' ')#PU\nprint(kalimat [-4:])#BUMI",
      "metadata": {
        "trusted": true
      },
      "outputs": [
        {
          "name": "stdout",
          "output_type": "stream",
          "text": "\nputra nusa\n\nNIVERSITAS NSA PTRA SKABMI\n\nSUKABUMI PUTRA NUSA UNIVERSITAS\n\nUNPS\n\nTAS SAPU BUMI\n"
        }
      ],
      "execution_count": 10
    }
  ]
}