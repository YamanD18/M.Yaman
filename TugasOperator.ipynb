{
 "cells": [
  {
   "cell_type": "markdown",
   "id": "22db36af-9664-42ae-a41e-2e880455cf9d",
   "metadata": {},
   "source": [
    "<h1>1.Operator Aritmatika</h1>"
   ]
  },
  {
   "cell_type": "code",
   "execution_count": 9,
   "id": "1bad9d1f-1cb8-4260-930f-c0e101c55fec",
   "metadata": {},
   "outputs": [
    {
     "name": "stdin",
     "output_type": "stream",
     "text": [
      "Isikan Jumlah Apel 12\n",
      "Isikan Jumlah Teman 4\n"
     ]
    },
    {
     "name": "stdout",
     "output_type": "stream",
     "text": [
      "jumlah Apel Budi setelah di bagikan 12 // 4 = 3\n"
     ]
    },
    {
     "name": "stdin",
     "output_type": "stream",
     "text": [
      "Tambmahkan apel 8\n"
     ]
    },
    {
     "name": "stdout",
     "output_type": "stream",
     "text": [
      "Jumlah Apel setelah di tambahkan 12 + 8 = 20\n"
     ]
    }
   ],
   "source": [
    "x = int(input(\"Isikan Jumlah Apel\"))\n",
    "y = int(input(\"Isikan Jumlah Teman\"))\n",
    "\n",
    "hasilBagiBulat = x // y\n",
    "\n",
    "print(\"jumlah Apel Budi setelah di bagikan\",x,\"//\",y,\"=\",hasilBagiBulat)\n",
    "\n",
    "z = int(input(\"Tambmahkan apel\"))\n",
    "\n",
    "hasilTambah = x + z\n",
    "\n",
    "print(\"Jumlah Apel setelah di tambahkan\",x,\"+\",z,\"=\",hasilTambah)"
   ]
  },
  {
   "cell_type": "markdown",
   "id": "6bd98e3c-a7f3-4c03-b009-acd1e3bd247f",
   "metadata": {},
   "source": [
    "<h1>2.operator perbandingan</h1>"
   ]
  },
  {
   "cell_type": "code",
   "execution_count": 8,
   "id": "9c36b52c-8e17-49b3-a79b-2a3fbc6d2207",
   "metadata": {},
   "outputs": [
    {
     "name": "stdin",
     "output_type": "stream",
     "text": [
      "Isikan Tb Siti : 160\n",
      "Isikan Tb Andi : 165\n"
     ]
    },
    {
     "name": "stdout",
     "output_type": "stream",
     "text": [
      "Andi lebih Tingg dari Siti\n"
     ]
    },
    {
     "name": "stdin",
     "output_type": "stream",
     "text": [
      "Isikan Tb Siti : 160\n",
      "Isikan Tb Andi : 165\n"
     ]
    },
    {
     "name": "stdout",
     "output_type": "stream",
     "text": [
      "apakah andi lebih tinggi ? True\n"
     ]
    }
   ],
   "source": [
    "x = int(input(\"Isikan Tb Siti :\"))\n",
    "y = int(input(\"Isikan Tb Andi :\"))\n",
    "\n",
    "if x > y :\n",
    "        print(\"Siti lebih tinggi dari andi\")\n",
    "elif x < y :\n",
    "        print(\"Andi lebih Tingg dari Siti\")\n",
    "else:\n",
    "        print(\"andi dan Siti tinggi nya sama\")\n",
    "    \n",
    "x = int(input(\"Isikan Tb Siti :\"))\n",
    "y = int(input(\"Isikan Tb Andi :\"))\n",
    "z = x < y\n",
    "print(\"apakah andi lebih tinggi ?\",z)\n"
   ]
  },
  {
   "cell_type": "markdown",
   "id": "1b222c6a-7ca8-41c5-8654-836e6d76dbda",
   "metadata": {},
   "source": [
    "<h1>Operator Logika</h1>"
   ]
  },
  {
   "cell_type": "code",
   "execution_count": 12,
   "id": "108db70b-0bf7-4092-93df-2d39d33e0d13",
   "metadata": {},
   "outputs": [
    {
     "name": "stdin",
     "output_type": "stream",
     "text": [
      "Apakah cuaca nya cerah? (ya/tidak) : ya\n",
      "Apakah budi suah menyelesaikan PR nya? (ya/tidak) :  ya\n"
     ]
    },
    {
     "name": "stdout",
     "output_type": "stream",
     "text": [
      "Budi bisa bermain keluar\n"
     ]
    },
    {
     "name": "stdin",
     "output_type": "stream",
     "text": [
      "Apakah cuaca nya cerah? (ya/tidak) : ya\n",
      "Apakah budi suah menyelesaikan PR nya? (ya/tidak) :  ya\n"
     ]
    },
    {
     "name": "stdout",
     "output_type": "stream",
     "text": [
      "Apakah Budi bisa bermain keluar? ya\n"
     ]
    }
   ],
   "source": [
    "x = str(input(\"Apakah cuaca nya cerah? (ya/tidak) :\"))\n",
    "y = str(input(\"Apakah budi suah menyelesaikan PR nya? (ya/tidak) : \"))\n",
    "z = x and y\n",
    "\n",
    "if z :\n",
    "    print(\"Budi bisa bermain keluar\")\n",
    "else :\n",
    "    print(\"Budi tidak bisa bermain keluar\")\n",
    "\n",
    "x = str(input(\"Apakah cuaca nya cerah? (ya/tidak) :\"))\n",
    "y = str(input(\"Apakah budi suah menyelesaikan PR nya? (ya/tidak) : \"))\n",
    "z = x and y\n",
    "\n",
    "print(\"Apakah Budi bisa bermain keluar?\" ,z)"
   ]
  },
  {
   "cell_type": "markdown",
   "id": "455c2fba-29bf-4175-aabd-c8f2ffe2221d",
   "metadata": {},
   "source": [
    "<h1>Operator bitwise</h1>"
   ]
  },
  {
   "cell_type": "code",
   "execution_count": 15,
   "id": "59407f9c-dd2c-471f-b454-faa42544e89c",
   "metadata": {},
   "outputs": [
    {
     "name": "stdin",
     "output_type": "stream",
     "text": [
      "Isikan angka : 6\n",
      "Isikan angka : 3\n"
     ]
    },
    {
     "name": "stdout",
     "output_type": "stream",
     "text": [
      "0b110\n",
      "0b11\n",
      "-----------------&\n",
      "0b10\n",
      "Hasil desimal AND adalah : 2\n",
      "0b110\n",
      "0b11\n",
      "---------------|\n",
      "0b111\n",
      "Hasil desimal OR adalah : 7\n",
      "0b110\n",
      "0b11\n",
      "---------------^\n",
      "0b101\n",
      "Hasil desimal XOR adalah : 5\n"
     ]
    }
   ],
   "source": [
    "bil1 = int(input(\"Isikan angka :\"))\n",
    "bil2 = int(input(\"Isikan angka :\"))\n",
    "\n",
    "#Bitwise AND (&)\n",
    "bitwiseAnd = bil1 & bil2\n",
    "print(bin(bil1))\n",
    "print(bin(bil2))\n",
    "print(\"-----------------&\")\n",
    "print(bin(bitwiseAnd))\n",
    "print(\"Hasil desimal AND adalah :\",bitwiseAnd)\n",
    "\n",
    "#Bitwise Or (|)\n",
    "bitwiseOr = bil1 | bil2\n",
    "print(bin(bil1))\n",
    "print(bin(bil2))\n",
    "print(\"---------------|\")\n",
    "print(bin(bitwiseOr))\n",
    "print(\"Hasil desimal OR adalah :\",bitwiseOr)\n",
    "\n",
    "#Bitwise XOR (^)\n",
    "bitwiseXOR = bil1 ^ bil2\n",
    "print(bin(bil1))\n",
    "print(bin(bil2))\n",
    "print(\"---------------^\")\n",
    "print(bin(bitwiseXOR))\n",
    "print(\"Hasil desimal XOR adalah :\",bitwiseXOR)"
   ]
  },
  {
   "cell_type": "markdown",
   "id": "24ff93a2-5903-4281-ac42-71e080b0767f",
   "metadata": {},
   "source": [
    "<h1>5.Operator Penugasan</h1>"
   ]
  },
  {
   "cell_type": "code",
   "execution_count": 16,
   "id": "477d5904-6ef1-4d67-8d6e-0e7fb0372b3a",
   "metadata": {},
   "outputs": [
    {
     "name": "stdin",
     "output_type": "stream",
     "text": [
      "Isikan Saldo 50000\n"
     ]
    },
    {
     "name": "stdout",
     "output_type": "stream",
     "text": [
      "Saldo awal dari <Saldo> : 50000\n",
      "Saldo setelah diisi ulang : 70000\n",
      "Saldo setelah dibelikan paket : 40000\n",
      "Sisa Saldo nya adalah : 40000\n"
     ]
    }
   ],
   "source": [
    "nilai = int(input(\"Isikan Saldo\"))\n",
    "print(\"Saldo awal dari <Saldo> :\",nilai)\n",
    "nilai+= 20000\n",
    "print(\"Saldo setelah diisi ulang :\",nilai)\n",
    "nilai-= 30000\n",
    "print(\"Saldo setelah dibelikan paket :\",nilai)\n",
    "print(\"Sisa Saldo nya adalah :\",nilai)"
   ]
  },
  {
   "cell_type": "markdown",
   "id": "78b29d45-3348-4c1b-8964-ee991e100d48",
   "metadata": {},
   "source": [
    "<h1>6. Operator keanggotaan</h1>"
   ]
  },
  {
   "cell_type": "code",
   "execution_count": 11,
   "id": "b031fc2b-37c5-4414-9aee-15eb2049e229",
   "metadata": {},
   "outputs": [
    {
     "name": "stdin",
     "output_type": "stream",
     "text": [
      "Isikan nama yang dicari : Eka\n"
     ]
    },
    {
     "name": "stdout",
     "output_type": "stream",
     "text": [
      "Apakah nama tersebut terdaftar sebagai peserta? False\n"
     ]
    },
    {
     "name": "stdin",
     "output_type": "stream",
     "text": [
      "Isikan kata yang dicari : Saya suka belajar Python\n"
     ]
    },
    {
     "name": "stdout",
     "output_type": "stream",
     "text": [
      "Apakah kata Python ada dalam kalimat? True\n"
     ]
    }
   ],
   "source": [
    "nama = input(\"Isikan nama yang dicari :\")\n",
    "listNama = [\"Andi\",\"Budi\",\"Citra\",\"Dewi\"]\n",
    "print(\"Apakah nama tersebut terdaftar sebagai peserta?\", nama in listNama)\n",
    "\n",
    "kata = input(\"Isikan kata yang dicari :\")\n",
    "kalimat = \"Saya suka belajar Python\"\n",
    "print(\"Apakah kata Python ada dalam kalimat?\", kata in kalimat)"
   ]
  },
  {
   "cell_type": "markdown",
   "id": "6d9a4dbd-5083-49b3-83a5-b4ac10faea8c",
   "metadata": {},
   "source": [
    "<h1>7.Operator identitas</h1>"
   ]
  },
  {
   "cell_type": "code",
   "execution_count": 13,
   "id": "5904cfa9-144b-4ee8-8d94-2e23ea35966d",
   "metadata": {},
   "outputs": [
    {
     "name": "stdout",
     "output_type": "stream",
     "text": [
      "Memori address dari x 140719511841496\n",
      "Memori address dari y 140719511841496\n",
      "Apakah x adalah y? True\n",
      "Memori address dari a 2218196405696\n",
      "Memori address dari b 2218196405376\n",
      "Apakah a adalah b? False\n"
     ]
    }
   ],
   "source": [
    "x = 10\n",
    "y = 10\n",
    "\n",
    "print('Memori address dari x',id(x))\n",
    "print('Memori address dari y',id(y))\n",
    "print('Apakah x adalah y?',x is y)\n",
    "\n",
    "a = [4,7,8]\n",
    "b = [4,7,8]\n",
    "\n",
    "print('Memori address dari a',id(a))\n",
    "print('Memori address dari b',id(b))\n",
    "print('Apakah a adalah b?',a is b)"
   ]
  },
  {
   "cell_type": "markdown",
   "id": "ac78d0a1-91e6-42f1-97bd-e1adf5fb061a",
   "metadata": {},
   "source": [
    "<h1>8.Operator Ternary</h1>"
   ]
  },
  {
   "cell_type": "code",
   "execution_count": 4,
   "id": "55cba352-0580-4d8f-b4e2-3873e494e9ed",
   "metadata": {},
   "outputs": [
    {
     "name": "stdin",
     "output_type": "stream",
     "text": [
      "Isikan angka : 75\n"
     ]
    },
    {
     "name": "stdout",
     "output_type": "stream",
     "text": [
      "Lebih kecil dari 100\n"
     ]
    },
    {
     "name": "stdin",
     "output_type": "stream",
     "text": [
      "Isikan nilai : 80\n"
     ]
    },
    {
     "name": "stdout",
     "output_type": "stream",
     "text": [
      "LULUS\n"
     ]
    }
   ],
   "source": [
    "number = int(input(\"Isikan angka :\"))\n",
    "AngkaLebihBesar = \"Lebih besar dari 100\" if number > 100 else \"Lebih kecil dari 100\"\n",
    "print(AngkaLebihBesar)\n",
    "\n",
    "nilai = int(input(\"Isikan nilai :\"))\n",
    "nilaiLulus = \"LULUS\" if nilai > 70 else \"Tidak Lulus\"\n",
    "print(nilaiLulus)"
   ]
  }
 ],
 "metadata": {
  "kernelspec": {
   "display_name": "Python 3 (ipykernel)",
   "language": "python",
   "name": "python3"
  },
  "language_info": {
   "codemirror_mode": {
    "name": "ipython",
    "version": 3
   },
   "file_extension": ".py",
   "mimetype": "text/x-python",
   "name": "python",
   "nbconvert_exporter": "python",
   "pygments_lexer": "ipython3",
   "version": "3.12.7"
  }
 },
 "nbformat": 4,
 "nbformat_minor": 5
}
