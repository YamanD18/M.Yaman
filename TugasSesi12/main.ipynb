{
 "cells": [
  {
   "cell_type": "code",
   "execution_count": 2,
   "id": "ccd60b45-c337-4502-9f20-a469809aec78",
   "metadata": {},
   "outputs": [
    {
     "name": "stdout",
     "output_type": "stream",
     "text": [
      "\n",
      "--- Menu Utama ---\n",
      "1. Aritmatika\n",
      "2. Konversi\n",
      "3. Ubah bilangan\n",
      "4. Keluar\n"
     ]
    },
    {
     "name": "stdin",
     "output_type": "stream",
     "text": [
      " pilih (1-4):  1\n"
     ]
    },
    {
     "name": "stdout",
     "output_type": "stream",
     "text": [
      "\n",
      "--- Menu Aritmatika ---\n",
      "1. Penjumlahan\n",
      "2. Perpangkatan\n",
      "3. Perkalian\n"
     ]
    },
    {
     "name": "stdin",
     "output_type": "stream",
     "text": [
      "Pilih operasi  (1-3):  3\n",
      "masukkan bilangan pertama: 5\n",
      "masukkan bilangan kedua: 5\n"
     ]
    },
    {
     "name": "stdout",
     "output_type": "stream",
     "text": [
      "hasil perkalian: 25\n",
      "\n",
      "--- Menu Utama ---\n",
      "1. Aritmatika\n",
      "2. Konversi\n",
      "3. Ubah bilangan\n",
      "4. Keluar\n"
     ]
    },
    {
     "name": "stdin",
     "output_type": "stream",
     "text": [
      " pilih (1-4):  2\n"
     ]
    },
    {
     "name": "stdout",
     "output_type": "stream",
     "text": [
      "\n",
      "--- Menu Konversi ---\n",
      "1. CM to M\n",
      "2. M to CM\n"
     ]
    },
    {
     "name": "stdin",
     "output_type": "stream",
     "text": [
      "Pilih Konversi (1-2):  1\n",
      "Masukkan bilangan desimal:  1000\n"
     ]
    },
    {
     "name": "stdout",
     "output_type": "stream",
     "text": [
      "hasil: 10.0 M\n",
      "\n",
      "--- Menu Utama ---\n",
      "1. Aritmatika\n",
      "2. Konversi\n",
      "3. Ubah bilangan\n",
      "4. Keluar\n"
     ]
    },
    {
     "name": "stdin",
     "output_type": "stream",
     "text": [
      " pilih (1-4):  3\n"
     ]
    },
    {
     "name": "stdout",
     "output_type": "stream",
     "text": [
      "\n",
      "--- Menu Ubah Bilangan ---\n",
      "1. Desimal to Biner\n",
      "2. Desimal to Oktal\n",
      "3. Desimal to Hexadesimal\n"
     ]
    },
    {
     "name": "stdin",
     "output_type": "stream",
     "text": [
      "pilih (1-3) :  1\n",
      "masukkan bilangan desimal:  10\n"
     ]
    },
    {
     "name": "stdout",
     "output_type": "stream",
     "text": [
      "Biner: 0b1010\n",
      "\n",
      "--- Menu Utama ---\n",
      "1. Aritmatika\n",
      "2. Konversi\n",
      "3. Ubah bilangan\n",
      "4. Keluar\n"
     ]
    },
    {
     "name": "stdin",
     "output_type": "stream",
     "text": [
      " pilih (1-4):  4\n"
     ]
    },
    {
     "name": "stdout",
     "output_type": "stream",
     "text": [
      "Terima Kasih telah menggunakan program ini\n"
     ]
    }
   ],
   "source": [
    "import aritmatika \n",
    "import konversi\n",
    "import ubah_bilangan \n",
    "\n",
    "def menu_aritmatika():\n",
    "    print(\"\\n--- Menu Aritmatika ---\")\n",
    "    print(\"1. Penjumlahan\")\n",
    "    print(\"2. Perpangkatan\")\n",
    "    print(\"3. Perkalian\")\n",
    "\n",
    "    pilihan = input(\"Pilih operasi  (1-3): \")\n",
    "    try:\n",
    "        a = int(input(\"masukkan bilangan pertama:\"))\n",
    "        b = int(input(\"masukkan bilangan kedua:\"))\n",
    "\n",
    "        if pilihan == \"1\":\n",
    "            print(\"hasil penjumlahan:\", a + b)\n",
    "        elif pilihan == \"2\":\n",
    "            print(\"hasil perpangkatan:\", a ** b)\n",
    "        elif pilihan == \"3\":\n",
    "            print(\"hasil perkalian:\", a * b)\n",
    "        else:\n",
    "            print(\"pilihan tidak valid.\")\n",
    "    except ValueError:\n",
    "        print(\"input harus berupa angka\")\n",
    "\n",
    "\n",
    "def menu_konversi():\n",
    "    print(\"\\n--- Menu Konversi ---\")\n",
    "    print(\"1. CM to M\")\n",
    "    print(\"2. M to CM\")\n",
    "\n",
    "    pilihan = input(\"Pilih Konversi (1-2): \")\n",
    "    try:\n",
    "        nilai = float(input(\"Masukkan bilangan desimal: \"))\n",
    "\n",
    "        if pilihan == \"1\":\n",
    "            print(\"hasil:\",nilai/100,\"M\")\n",
    "        elif pilihan == \"2\":\n",
    "            print(\"hasil:\",nilai*100,\"CM\")\n",
    "        else:\n",
    "            print(\"pilihan tidak valid.\")\n",
    "    except ValueError:\n",
    "        print(\"input harus berupa angka\")\n",
    "    \n",
    "\n",
    "def menu_ubah_bilangan():\n",
    "    print(\"\\n--- Menu Ubah Bilangan ---\")\n",
    "    print(\"1. Desimal to Biner\")\n",
    "    print(\"2. Desimal to Oktal\")\n",
    "    print(\"3. Desimal to Hexadesimal\")\n",
    "\n",
    "    pilihan = input(\"pilih (1-3) : \")\n",
    "    try:\n",
    "        angka = int(input(\"masukkan bilangan desimal: \"))\n",
    "\n",
    "        if pilihan == \"1\":\n",
    "            print(\"Biner:\", bin(angka))\n",
    "        elif pilihan == \"2\":\n",
    "            print(\"Oktal:\", oct(angka))\n",
    "        elif pilihan == \"3\":\n",
    "            print(\"Hexadesimal:\", hex(angka))\n",
    "        else:\n",
    "            print(\"pilihan tidak valid \")\n",
    "    except ValueError:\n",
    "        print(\"input harus berupa bilangan bulat.\")\n",
    "                    \n",
    "\n",
    "def main():\n",
    "    while True:\n",
    "        print(\"\\n--- Menu Utama ---\")\n",
    "        print(\"1. Aritmatika\")\n",
    "        print(\"2. Konversi\")\n",
    "        print(\"3. Ubah bilangan\")\n",
    "        print(\"4. Keluar\")\n",
    "        \n",
    "        pilihan = input(\" pilih (1-4): \")\n",
    "        if pilihan == \"1\":\n",
    "            menu_aritmatika()\n",
    "        elif pilihan == \"2\":\n",
    "            menu_konversi()\n",
    "        elif pilihan == \"3\":\n",
    "            menu_ubah_bilangan()\n",
    "        elif pilihan == \"4\":\n",
    "            print(\"Terima Kasih telah menggunakan program ini\")\n",
    "            break\n",
    "        else:\n",
    "            print (\"pilihan tidak valid. \")\n",
    "\n",
    "if __name__ == \"__main__\":\n",
    "    main()"
   ]
  }
 ],
 "metadata": {
  "kernelspec": {
   "display_name": "Python 3 (ipykernel)",
   "language": "python",
   "name": "python3"
  },
  "language_info": {
   "codemirror_mode": {
    "name": "ipython",
    "version": 3
   },
   "file_extension": ".py",
   "mimetype": "text/x-python",
   "name": "python",
   "nbconvert_exporter": "python",
   "pygments_lexer": "ipython3",
   "version": "3.12.7"
  }
 },
 "nbformat": 4,
 "nbformat_minor": 5
}
