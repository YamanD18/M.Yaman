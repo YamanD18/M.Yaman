{
 "cells": [
  {
   "cell_type": "markdown",
   "id": "6a5edf56-7d77-4500-8d2b-5c454fa6e331",
   "metadata": {},
   "source": [
    "<h4>Buatlah program yang meminta pengguna memasukkan usia seseorang, lalu tentukan apakah dia\n",
    "anak-anak (0-12 tahun), remaja (13-17 tahun), dewasa (18-59 tahun), atau lansia (60 tahun ke atas).</h4>"
   ]
  },
  {
   "cell_type": "code",
   "execution_count": 15,
   "id": "4f72380a-b8ae-4c4d-9885-be55c57f11fd",
   "metadata": {},
   "outputs": [
    {
     "name": "stdin",
     "output_type": "stream",
     "text": [
      "Isikan Usia Anda 15\n"
     ]
    },
    {
     "name": "stdout",
     "output_type": "stream",
     "text": [
      "Usia Anda masuk dalam kategori : Remaja\n"
     ]
    }
   ],
   "source": [
    "usia = int(input(\"Isikan Usia Anda\"))\n",
    "\n",
    "if 0 <=  usia <= 12:\n",
    "    kategori = \"Anak Anak\"\n",
    "elif 13 <= usia <= 17:\n",
    "    kategori = \"Remaja\"\n",
    "elif 18 <= usia <= 59:\n",
    "    kategori = \"Dewasa\"\n",
    "elif usia >= 60:\n",
    "    kategori = \"Lansia\"\n",
    "else:\n",
    "    kategori = \"Usia Tidak Valid\"\n",
    "\n",
    "print(f\"Usia Anda masuk dalam kategori :\",kategori)\n"
   ]
  },
  {
   "cell_type": "markdown",
   "id": "c0d28a9b-776f-4201-900d-3b8b36a5b176",
   "metadata": {},
   "source": [
    "<h5>Sebuah taman hiburan memiliki aturan harga tiket berdasarkan usia:\n",
    "\n",
    "1.Anak-anak (0-12 tahun): Rp 10.000\n",
    "\n",
    "2.Remaja (13-17 tahun): Rp 15.000\n",
    "\n",
    "3.Dewasa (18-59 tahun): Rp 25.000\n",
    "\n",
    "4.Lansia (60 tahun ke atas):gratis\n",
    "\n",
    "Buat program untuk menentukan harga tiket berdasarkan usia yang dimasukkan pengguna dan total harga yang harus dibayar, jika terdapat 3 input seperti berikut ini</h5>"
   ]
  },
  {
   "cell_type": "code",
   "execution_count": 16,
   "id": "f2b86a74-d906-4ba9-8d16-55bfe5c5545a",
   "metadata": {},
   "outputs": [
    {
     "name": "stdin",
     "output_type": "stream",
     "text": [
      "Isikan Usia Tiket 1: 15\n",
      "Isikan Usia Tiket 2:  10\n",
      "Isikan Usia Tiket 3:  19\n"
     ]
    },
    {
     "name": "stdout",
     "output_type": "stream",
     "text": [
      "Total Harga yang harus dibayar:  50000\n"
     ]
    }
   ],
   "source": [
    "tiket1 = int(input(\"Isikan Usia Tiket 1:\"))\n",
    "tiket2 = int(input(\"Isikan Usia Tiket 2: \"))\n",
    "tiket3 = int(input(\"Isikan Usia Tiket 3: \"))\n",
    "\n",
    "def hargaTiket (usia):\n",
    "    if 0 <= usia <= 12:\n",
    "        return 10000\n",
    "    elif 13 <= usia <= 17:\n",
    "        return 15000\n",
    "    elif 18 <= usia <= 59:\n",
    "        return 25000\n",
    "    elif usia >= 60:\n",
    "        return 0\n",
    "    else:\n",
    "        \"Usia Tidak Valid\"\n",
    "\n",
    "totalHarga = (hargaTiket(tiket1) + hargaTiket(tiket2) + hargaTiket(tiket3))\n",
    "\n",
    "print(f\"Total Harga yang harus dibayar: \",totalHarga)"
   ]
  },
  {
   "cell_type": "markdown",
   "id": "00bc7064-f1c3-43b8-8e36-056da31b0032",
   "metadata": {},
   "source": [
    "<h4>Sebuah restoran memiliki diskon khusus: Anak-anak (0-12 tahun) diskon 50% Lansia (60 tahun ke atas) diskon 30% Selain itu, tidak ada diskon Buat program untuk menghitung harga yang harus dibayar setelah diskon diberikan.</h4>"
   ]
  },
  {
   "cell_type": "code",
   "execution_count": 5,
   "id": "3b3968c8-5718-4861-9698-351b0f5d965f",
   "metadata": {},
   "outputs": [
    {
     "name": "stdin",
     "output_type": "stream",
     "text": [
      "Masukan Usia Anda:  12\n",
      "Masukan Harga:  70000\n"
     ]
    },
    {
     "name": "stdout",
     "output_type": "stream",
     "text": [
      "Diskon : 50 %\n",
      "Harga yang harus dibayar : Rp.35000.0\n"
     ]
    }
   ],
   "source": [
    "usia = int(input(\"Masukan Usia Anda: \"))\n",
    "harga = int(input(\"Masukan Harga: \"))\n",
    "\n",
    "if 0 <= usia <= 12:\n",
    "    diskon = 50\n",
    "    print(\"Diskon :\",diskon,\"%\")\n",
    "elif usia >= 60:\n",
    "    diskon = 30\n",
    "    print(\"Diskon :\",diskon,\"%\")\n",
    "else:\n",
    "    diskon = 0\n",
    "    \"Tidak Ada Diskon\"\n",
    "    print(f\"Maaf anda belum mendapatkan diskon\")\n",
    "\n",
    "hargaDiskon = harga - (harga * diskon/100)\n",
    "\n",
    "print(f\"Harga yang harus dibayar : Rp.{hargaDiskon}\")"
   ]
  },
  {
   "cell_type": "markdown",
   "id": "4321f657-57d3-4359-a800-06874e8e6039",
   "metadata": {},
   "source": [
    "<h5>Program beasiswa:\n",
    "\n",
    "1.Jika nilai rapor ≥ 90 dan penghasilan orang tua < Rp 5.000.000 → Beasiswa Penuh\n",
    "\n",
    "2.Jika nilai rapor ≥ 85 dan penghasilan orang tua < Rp 8.000.000 → Beasiswa 50%\n",
    "\n",
    "3.Jika tidak memenuhi syarat di atas → Tidak mendapatkan beasiswa</h5>"
   ]
  },
  {
   "cell_type": "code",
   "execution_count": 42,
   "id": "489d2476-fcee-4f1f-8ff8-cd52e18f0c66",
   "metadata": {},
   "outputs": [
    {
     "name": "stdin",
     "output_type": "stream",
     "text": [
      "Isikan Nilai Rapor : 95\n",
      "Isikan Penghasilan Orang Tua : 7000000\n"
     ]
    },
    {
     "name": "stdout",
     "output_type": "stream",
     "text": [
      "Selamat Anda mendapatkan Beasiswa 50%.\n"
     ]
    }
   ],
   "source": [
    "nilai = int(input(\"Isikan Nilai Rapor :\"))\n",
    "penghasilan = int(input(\"Isikan Penghasilan Orang Tua :\"))\n",
    "\n",
    "if nilai >= 90 and penghasilan < 5000000:\n",
    "    print(\"Selamat Anda mendapatkan Beasiswa Penuh.\")\n",
    "elif nilai >= 85 and penghasilan < 8000000:\n",
    "    print(\"Selamat Anda mendapatkan Beasiswa 50%.\")\n",
    "else:\n",
    "    print(\"Tidak mendapatkan Beasiswa.\")"
   ]
  },
  {
   "cell_type": "markdown",
   "id": "4106288b-30b3-4e16-ab7c-0e34ab08d31d",
   "metadata": {},
   "source": [
    "<h5>Suatu aplikasi streaming memiliki batasan usia:\n",
    "\n",
    "\n",
    "1.Film Semua Umur: Bisa ditonton oleh siapa saja\n",
    "\n",
    "2.Film Remaja: Hanya untuk usia ≥ 13 tahun\n",
    "\n",
    "3.Film Dewasa: Hanya untuk usia ≥ 18 tahun\n",
    "\n",
    "Buat program yang meminta input usia dan kategori film, lalu tentukan apakah seseorang boleh menonton film tersebut atau tidak.</h5>"
   ]
  },
  {
   "cell_type": "code",
   "execution_count": 7,
   "id": "c1cbd56e-0216-4a8d-b57d-c1a6096c3d4f",
   "metadata": {},
   "outputs": [
    {
     "name": "stdin",
     "output_type": "stream",
     "text": [
      "Masukan Umur Penonton : 14\n",
      "Masukan Kategori Film (Semua Umur/Remaja/Dewasa) : Dewasa\n"
     ]
    },
    {
     "name": "stdout",
     "output_type": "stream",
     "text": [
      "Anda Tidak boleh Menonton Film ini.\n"
     ]
    }
   ],
   "source": [
    "umur = int(input(\"Masukan Umur Penonton :\"))\n",
    "kategoriFilm = input(\"Masukan Kategori Film (Semua Umur/Remaja/Dewasa) :\")\n",
    "\n",
    "if kategoriFilm == \"Semua Umur\":\n",
    "    print(\"Anda boleh Menonton\") \n",
    "elif kategoriFilm == \"Remaja\" and umur >= 13:\n",
    "    print(\"Anda boleh Menonton\")\n",
    "elif kategoriFilm == \"Dewasa\" and umur >= 18:\n",
    "    print(\"Anda boleh Menonton\")\n",
    "else:\n",
    "    print(\"Anda Tidak boleh Menonton Film ini.\")"
   ]
  },
  {
   "cell_type": "markdown",
   "id": "60c04059-518e-4a34-967c-d198eca997e1",
   "metadata": {},
   "source": [
    "<h5>Sebuah toko memberikan diskon berdasarkan jumlah pembelian:\n",
    "\n",
    "\n",
    "1.Jika total belanja ≥ Rp 500.000 → Diskon 20%\n",
    "\n",
    "2.Jika total belanja ≥ Rp 250.000 → Diskon 10%\n",
    "\n",
    "3.Jika total belanja < Rp 250.000 → Tidak ada diskon\n",
    "\n",
    "Hitung harga akhir setelah diskon"
   ]
  },
  {
   "cell_type": "code",
   "execution_count": 39,
   "id": "7d07b5ab-fbe7-4d32-b70c-8c12e4465ecd",
   "metadata": {},
   "outputs": [
    {
     "name": "stdin",
     "output_type": "stream",
     "text": [
      "Isikan Total belanja : 300000\n"
     ]
    },
    {
     "name": "stdout",
     "output_type": "stream",
     "text": [
      "Diskon : 10 %\n",
      "total Belanja setelah diskon :270000.0\n"
     ]
    }
   ],
   "source": [
    "total = int(input(\"Isikan Total belanja :\"))\n",
    "\n",
    "if total >= 500000:\n",
    "    diskon = 20\n",
    "    print(\"Diskon :\", diskon,\"%\")\n",
    "elif total >= 250000:\n",
    "    diskon = 10\n",
    "    print(\"Diskon :\", diskon,\"%\")\n",
    "else:\n",
    "    diskon = 0\n",
    "    print(\"Tidak Ada Diskon\")\n",
    "\n",
    "hargaAkhir = total - (total * diskon/100)\n",
    "print(f\"total Belanja setelah diskon :{hargaAkhir}\")"
   ]
  },
  {
   "cell_type": "markdown",
   "id": "e2347357-2814-4730-857e-e858a39ad38e",
   "metadata": {},
   "source": [
    "<h5>Program parkir:\n",
    "\n",
    "1.Mobil: Rp 5.000 per jam\n",
    "\n",
    "2.Motor: Rp 2.000 per jam\n",
    "\n",
    "3.Jika parkir lebih dari 5 jam, ada biaya tambahan Rp 10.000\n",
    "\n",
    "Hitung total biaya parkir berdasarkan jenis kendaraan dan durasi parkir.</h5>"
   ]
  },
  {
   "cell_type": "code",
   "execution_count": 10,
   "id": "64970310-55e4-4140-b678-a07c54d62b3b",
   "metadata": {},
   "outputs": [
    {
     "name": "stdin",
     "output_type": "stream",
     "text": [
      "Masukan jenis kendaraan : Mobil\n",
      "Masukan durasi Parkir : 4\n"
     ]
    },
    {
     "name": "stdout",
     "output_type": "stream",
     "text": [
      "Total biaya parkir : Rp. 20000\n"
     ]
    }
   ],
   "source": [
    "kendaraan = input(\"Masukan jenis kendaraan :\")\n",
    "durasi = int(input(\"Masukan durasi Parkir :\"))\n",
    "\n",
    "if kendaraan == \"Mobil\":\n",
    "    tarif = 5000 \n",
    "elif kendaraan == \"Motor\":\n",
    "    tarif = 2000 \n",
    "else:\n",
    "    print(\"Tidak ada kendaraan seperti itcu\")\n",
    "\n",
    "total = tarif * durasi\n",
    "\n",
    "if durasi > 5:\n",
    "    total += 10000\n",
    "\n",
    "print(f\"Total biaya parkir : Rp. {total}\")"
   ]
  },
  {
   "cell_type": "markdown",
   "id": "9d406642-4110-4b94-a467-40912153b6b5",
   "metadata": {},
   "source": [
    "<h5>Aplikasi transportasi online memiliki tarif sebagai berikut:\n",
    "\n",
    "1.Jika jarak ≤ 5 km → Rp 5.000/km\n",
    "\n",
    "2.Jika jarak 6-10 km → Rp 4.000/km\n",
    "\n",
    "3.Jika jarak > 10 km → Rp 3.000/km\n",
    "\n",
    "Hitung tarif perjalanan berdasarkan jarak yang dimasukkan pengguna.</h5>"
   ]
  },
  {
   "cell_type": "code",
   "execution_count": 38,
   "id": "26fba49e-7424-41c8-9c07-536709715183",
   "metadata": {},
   "outputs": [
    {
     "name": "stdin",
     "output_type": "stream",
     "text": [
      "Masukan Jarak perjalanan (km) : 7\n"
     ]
    },
    {
     "name": "stdout",
     "output_type": "stream",
     "text": [
      "total Tarif Perjalanan untuk 7km : Rp.28000\n"
     ]
    }
   ],
   "source": [
    "jarak = int(input(\"Masukan Jarak perjalanan (km) :\"))\n",
    "\n",
    "if jarak <= 5:\n",
    "    tarif = jarak * 5000\n",
    "elif 6 <= jarak <= 10:\n",
    "    tarif = jarak * 4000\n",
    "else:\n",
    "    tarif = jarak * 3000\n",
    "\n",
    "total = jarak and tarif\n",
    "\n",
    "print(f\"total Tarif Perjalanan untuk {jarak}km : Rp.{total}\")"
   ]
  },
  {
   "cell_type": "markdown",
   "id": "8f299036-785b-4dde-a0cb-06397d7fc46c",
   "metadata": {},
   "source": [
    "<h5>Buatlah sebuah sistem penerimaan calon programmer yang akan menerima dua nilai ( nilai coding dan nilai interview). Untuk penilaian test coding skala penilaian yang diberikan dimulai dari 0 hingga 100 dengan sistem penilaian:\n",
    "\n",
    "1.ketika seseorang mendapatkan nilai lebih dari 80 maka peserta tersebut akan mendapatkan hasil tes LOLOS\n",
    "\n",
    "2.ketika sesorang mendapatkan nilai diantara 60 hingga 80 maka peserta tersebut mendapatkan hasil tes DIPERTIMBANGKAN\n",
    "\n",
    "3.ketika seseorang mendapatkan nilai dibawah 60 maka peserta tersebut mendapatkan hasil tes GAGAL.\n",
    "\n",
    "Sedangkan untuk penilaian interview adalah\n",
    "\n",
    "1.ketika nilai yang diberikan kepada seseorang tersebut adalah \"A\" atau \"B\" maka peserta tersebut dianggap LOLOS interview\n",
    "\n",
    "2.selain kedua nilai tersebut maka peserta dianggap GAGAL tes interview.\n",
    "\n",
    "Ketika calon programmer mendapatkan nilai coding LOLOS atau DIPERTIMBANGKAN dan juga LOLOS test interview maka tampilkanlah pesan \"Selamat Kamu Berhasil Menjadi Calon Programmer\". Jika tidak maka tampilkanlah pesan \"Maaf Kamu Belum Berhasil Menjadi Calon Programmer\"</h5>"
   ]
  },
  {
   "cell_type": "code",
   "execution_count": 12,
   "id": "76c47c0c-edff-4555-92a9-56798055b0bf",
   "metadata": {},
   "outputs": [
    {
     "name": "stdin",
     "output_type": "stream",
     "text": [
      "Masukan nilai coding : 70\n",
      "Masukan Nilai Interview (A/B/C/D):  c\n"
     ]
    },
    {
     "name": "stdout",
     "output_type": "stream",
     "text": [
      "Maaf Kamu Belum Berhasil Menjadi Calon Programmer\n"
     ]
    }
   ],
   "source": [
    "nilai1 = int(input(\"Masukan nilai coding :\"))\n",
    "nilai2 = input(\"Masukan Nilai Interview (A/B/C/D): \")\n",
    "\n",
    "if nilai1 > 80:\n",
    "    hasil1 = \"LOLOS\"\n",
    "elif 60 <= nilai1 <= 80:\n",
    "    hasil1 = \"Dipertimbangkan\"\n",
    "else:\n",
    "    hasil1 = \"GAGAL\"\n",
    "\n",
    "if nilai2 in [\"A\", \"B\"]:\n",
    "    hasil2 = \"LOLOS\"\n",
    "else:\n",
    "    hasil2 = \"GAGAL\"\n",
    "\n",
    "if (hasil1 in [\"LOLOS\", \"DIPERTIMBANGKAN\"]) and hasil2 == \"LOLOS\":\n",
    "    print(\"Selamat Kamu Berhasil Menjadi Calon Programmer\")\n",
    "else:\n",
    "    print(\"Maaf Kamu Belum Berhasil Menjadi Calon Programmer\")"
   ]
  },
  {
   "cell_type": "markdown",
   "id": "6247aefb-c31d-4f11-9a9a-11d4195a828b",
   "metadata": {},
   "source": [
    "<h4>Sebuah klub sepak bola “PERSEGI FC” mempunyai aturan dalam memberikan nomor punggung bagi para pemainnya. Para pemain diperbolehkan mempunyai posisi lebih dari 1. Berikut adalah beberapa aturannya:\n",
    "\n",
    "1.Untuk nomor punggung genap, digunakan untuk posisi “target attacker”\n",
    "\n",
    "2.Untuk nomor punggung genap antara 50 – 100, digunakan untuk pemain yang “berhak dipilih menjadi capten team”\n",
    "\n",
    "3.Untuk nomor punggung ganjil, digunakan untuk posisi “defender”\n",
    "\n",
    "4.Untuk nomor punggung ganjil lebih dari 90, digunakan untuk posisi “Playmaker”\n",
    "\n",
    "5.Untuk nomor punggung ganjil kelipatan dari 3 dan 5, digunakan untuk posisi “keeper”\n",
    "\n",
    "Buatlah program untuk melakukan pengecekan sebuah nomor punggung dapat berfungsi sebagai posisi apa saja.</h4>"
   ]
  },
  {
   "cell_type": "code",
   "execution_count": 37,
   "id": "34fac20b-5ae2-40b1-b060-25167257cc81",
   "metadata": {},
   "outputs": [
    {
     "name": "stdin",
     "output_type": "stream",
     "text": [
      "Masukan No Punggung Pemain : 8\n"
     ]
    },
    {
     "name": "stdout",
     "output_type": "stream",
     "text": [
      "Nomor Punggung 8 Dapat Berfungsi Sebagai : Attacker\n"
     ]
    }
   ],
   "source": [
    "noP = int(input(\"Masukan No Punggung Pemain :\"))\n",
    "posisi = \"\" \n",
    "\n",
    "if noP % 2 == 0:\n",
    "    posisi += \"Attacker\"\n",
    "    if 50 <= noP <= 100:\n",
    "        posisi += \"Berhak Dipilih Menjadi Captain Team\"\n",
    "else:\n",
    "    posisi = \"Defender \"\n",
    "    if noP > 90:\n",
    "        posisi += \"Playmaker\"\n",
    "    elif noP % 3 == 0 and noP % 5 == 0:\n",
    "        posisi += \"Keeper\"\n",
    "    else:\n",
    "        posisi = \"Tidak memiliki Posisi\"\n",
    "\n",
    "print(\"Nomor Punggung\",noP, \"Dapat Berfungsi Sebagai :\", posisi)"
   ]
  }
 ],
 "metadata": {
  "kernelspec": {
   "display_name": "Python 3 (ipykernel)",
   "language": "python",
   "name": "python3"
  },
  "language_info": {
   "codemirror_mode": {
    "name": "ipython",
    "version": 3
   },
   "file_extension": ".py",
   "mimetype": "text/x-python",
   "name": "python",
   "nbconvert_exporter": "python",
   "pygments_lexer": "ipython3",
   "version": "3.12.7"
  }
 },
 "nbformat": 4,
 "nbformat_minor": 5
}
