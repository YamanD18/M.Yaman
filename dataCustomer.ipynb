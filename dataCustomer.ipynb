{
 "cells": [
  {
   "cell_type": "markdown",
   "id": "89fe73dd",
   "metadata": {},
   "source": [
    "<b>Project Data Customer</b><br>\n",
    "Buatlah contoh data customer sebanyak 1000 yang akam di gunakan untuk prediksi:<br>\n",
    "<ol>\n",
    "    <li>Usia : 18-60</li>\n",
    "    <li>Gender : L/P-> L(1),P(2)</li>\n",
    "    <li>Transaksi per bulan : 0-58</li>\n",
    "    <li>kategori pembayaran : buruk, sedang, bagus</li>\n",
    "</ol>        "
   ]
  },
  {
   "cell_type": "code",
   "execution_count": 25,
   "id": "1187f576",
   "metadata": {},
   "outputs": [
    {
     "name": "stdout",
     "output_type": "stream",
     "text": [
      "   Usia  Gender  Transaksi/Bulan Kategori Bayar\n",
      "0    20       1               43         sedang\n",
      "1    59       0               48         sedang\n",
      "2    33       0               14         sedang\n",
      "3    27       0                0         sedang\n",
      "4    59       0               50         sedang\n",
      "5    45       0               22         sedang\n",
      "6    54       1                6         sedang\n",
      "7    52       1               40         sedang\n",
      "8    18       0                9         sedang\n",
      "9    42       0               46         sedang\n",
      "<class 'pandas.core.frame.DataFrame'>\n",
      "RangeIndex: 10 entries, 0 to 9\n",
      "Data columns (total 4 columns):\n",
      " #   Column           Non-Null Count  Dtype \n",
      "---  ------           --------------  ----- \n",
      " 0   Usia             10 non-null     int32 \n",
      " 1   Gender           10 non-null     int32 \n",
      " 2   Transaksi/Bulan  10 non-null     int32 \n",
      " 3   Kategori Bayar   10 non-null     object\n",
      "dtypes: int32(3), object(1)\n",
      "memory usage: 328.0+ bytes\n",
      "None\n",
      "   Usia  Gender  Transaksi/Bulan Kategori Bayar\n",
      "0    20       1               43         sedang\n",
      "1    59       0               48         sedang\n",
      "2    33       0               14         sedang\n",
      "3    27       0                0         sedang\n",
      "4    59       0               50         sedang\n",
      "Usia custumer yang termuda :18\n",
      "3.0\n",
      "3\n"
     ]
    }
   ],
   "source": [
    "import numpy as np\n",
    "import pandas as pd\n",
    "\n",
    "n_data = 10\n",
    "\n",
    "usia = np.random.randint(18,61,size=n_data)\n",
    "gender = np.random.randint(0,2,size=n_data)\n",
    "transaksi = np.random.randint(0,51,size=n_data)\n",
    "kategori = np.random.choice(['Buruk','sedang','Bagus'])\n",
    "\n",
    "df = pd.DataFrame({\n",
    "    'Usia' : usia,\n",
    "    'Gender' : gender,\n",
    "    'Transaksi/Bulan' : transaksi,\n",
    "    'Kategori Bayar' : kategori,\n",
    "}) \n",
    "\n",
    "print(df)\n",
    "print(df.info())\n",
    "print(df.head())#mengetahui 5 baris pertama dari data\n",
    "print(f\"Usia custumer yang termuda :{df['Usia'].min()}\")\n",
    "jmlL = df[df['Gender'] == 1]\n",
    "print(jmlL.size/4)\n",
    "print(jmlL['Gender'].size)\n",
    "df.to_csv('dataCustomer.csv')"
   ]
  },
  {
   "cell_type": "code",
   "execution_count": null,
   "id": "d11c58d4",
   "metadata": {},
   "outputs": [],
   "source": []
  }
 ],
 "metadata": {
  "kernelspec": {
   "display_name": "Python 3 (ipykernel)",
   "language": "python",
   "name": "python3"
  },
  "language_info": {
   "codemirror_mode": {
    "name": "ipython",
    "version": 3
   },
   "file_extension": ".py",
   "mimetype": "text/x-python",
   "name": "python",
   "nbconvert_exporter": "python",
   "pygments_lexer": "ipython3",
   "version": "3.9.12"
  }
 },
 "nbformat": 4,
 "nbformat_minor": 5
}
