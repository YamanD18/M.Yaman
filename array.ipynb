{
 "cells": [
  {
   "cell_type": "markdown",
   "id": "0deb5896",
   "metadata": {},
   "source": [
    "import numpy as np"
   ]
  },
  {
   "cell_type": "code",
   "execution_count": 14,
   "id": "fbf2f6d4",
   "metadata": {},
   "outputs": [
    {
     "name": "stdout",
     "output_type": "stream",
     "text": [
      "Array mat1D : [1 2 3 4 5 6 7 8 9]\n",
      "Array mat1D + 10 [11 12 13 14 15 16 17 18 19]\n",
      "Array mat1D indeks ke 2 :3\n"
     ]
    }
   ],
   "source": [
    "mat1D = np.array([1,2,3,4,5,6,7,8,9])\n",
    "print(f\"Array mat1D : {mat1D}\")\n",
    "print(f\"Array mat1D + 10 {mat1D + 10}\")\n",
    "print(f\"Array mat1D indeks ke 2 :{mat1D[2]}\")    "
   ]
  },
  {
   "cell_type": "code",
   "execution_count": 18,
   "id": "9e64a05c",
   "metadata": {},
   "outputs": [
    {
     "name": "stdout",
     "output_type": "stream",
     "text": [
      "Array mat2D : [[1 2 3]\n",
      " [4 5 6]\n",
      " [7 8 9]]\n",
      "Array mat2D + 10: [[11 12 13]\n",
      " [14 15 16]\n",
      " [17 18 19]]\n",
      "Array mat2D indeks ke 2 : [7 8 9]\n",
      "Array mat2D indeks ke 2 : 50\n"
     ]
    }
   ],
   "source": [
    "mat2D = np.array([[1,2,3],[4,5,6],[7,8,9]])\n",
    "print(f\"Array mat2D : {mat2D}\")\n",
    "print(f\"Array mat2D + 10: {mat2D + 10}\")\n",
    "print(f\"Array mat2D indeks ke 2 : {mat2D[2]}\")\n",
    "print(f\"Array mat2D indeks ke 2 : {mat2D[1][1] * 10}\")"
   ]
  },
  {
   "cell_type": "code",
   "execution_count": 19,
   "id": "01ff779c",
   "metadata": {},
   "outputs": [
    {
     "name": "stdout",
     "output_type": "stream",
     "text": [
      "(9,)\n",
      "(3, 3)\n"
     ]
    }
   ],
   "source": [
    "print(mat1D.shape)\n",
    "print(mat2D.shape)"
   ]
  },
  {
   "cell_type": "code",
   "execution_count": 20,
   "id": "c70eb487",
   "metadata": {},
   "outputs": [
    {
     "name": "stdout",
     "output_type": "stream",
     "text": [
      "9\n",
      "9\n"
     ]
    }
   ],
   "source": [
    "print(mat1D.size)\n",
    "print(mat2D.size)"
   ]
  },
  {
   "cell_type": "code",
   "execution_count": 37,
   "id": "33003d41",
   "metadata": {},
   "outputs": [
    {
     "name": "stdout",
     "output_type": "stream",
     "text": [
      "Matriks mOne :\n",
      " [[1. 1. 1. 1.]\n",
      " [1. 1. 1. 1.]\n",
      " [1. 1. 1. 1.]\n",
      " [1. 1. 1. 1.]]\n",
      "Matriks mZero :\n",
      " [[0. 0. 0. 0. 0.]\n",
      " [0. 0. 0. 0. 0.]\n",
      " [0. 0. 0. 0. 0.]]\n",
      "Matriks mIdentity:\n",
      " [[1. 0. 0. 0. 0.]\n",
      " [0. 1. 0. 0. 0.]\n",
      " [0. 0. 1. 0. 0.]\n",
      " [0. 0. 0. 1. 0.]\n",
      " [0. 0. 0. 0. 1.]]\n",
      "matriks mFull:\n",
      " [[10 10 10]\n",
      " [10 10 10]\n",
      " [10 10 10]]\n",
      "matriks mF1Random:\n",
      " [0.04495351 0.99186208 0.45968334 0.43696071 0.13991534]\n",
      "matriks mF2Random:\n",
      " [[0.88544627 0.6361792  0.69168912 0.31543234 0.64074097]\n",
      " [0.65420262 0.46027682 0.24768359 0.29013698 0.64798934]\n",
      " [0.89532049 0.2239054  0.26780535 0.30662332 0.1212861 ]\n",
      " [0.01980235 0.40593876 0.69247104 0.81739136 0.00338041]\n",
      " [0.19216718 0.5822993  0.48964517 0.48392417 0.96564601]]\n",
      "matriks mI1Random:\n",
      " [89 54 63 78 71 24 54 83 53 68]\n",
      "matriks mI2Random:\n",
      " [[76 19 52 51]\n",
      " [13 55 75 49]\n",
      " [28 46 70 77]\n",
      " [42 87 71  3]]\n"
     ]
    }
   ],
   "source": [
    "#special matriks\n",
    "mZero = np.zeros((3,5))\n",
    "mOne = np.ones((4,4))\n",
    "mIdentity = np.eye((5))\n",
    "mFull = np.full((3,3),10)\n",
    "mF1Random = np.random.rand(5,)\n",
    "mF2Random = np.random.rand(5,5)\n",
    "mI1Random = np.random.randint(10,100,size = 10)\n",
    "mI2Random = np.random.randint(1,100,size = (4,4))\n",
    "print(f\"Matriks mOne :\\n {mOne}\")\n",
    "print(f\"Matriks mZero :\\n {mZero}\")\n",
    "print(f\"Matriks mIdentity:\\n {mIdentity}\")\n",
    "print(f\"matriks mFull:\\n {mFull}\")\n",
    "print(f\"matriks mF1Random:\\n {mF1Random}\")\n",
    "print(f\"matriks mF2Random:\\n {mF2Random}\")\n",
    "print(f\"matriks mI1Random:\\n {mI1Random}\")\n",
    "print(f\"matriks mI2Random:\\n {mI2Random}\")"
   ]
  },
  {
   "cell_type": "code",
   "execution_count": 41,
   "id": "3926c7b2",
   "metadata": {},
   "outputs": [
    {
     "name": "stdout",
     "output_type": "stream",
     "text": [
      "Hasil perkalian dot product : 32\n",
      "Hasil penjumlahan matriks :\n",
      "[5 7 9]\n",
      "Hasil dot prodct dengan 3:\n",
      "[3 6 9]\n"
     ]
    }
   ],
   "source": [
    "#Aritmatic Array\n",
    "x = np.array([1,2,3])\n",
    "y = np.array([4,5,6])\n",
    "r1 = np.dot(x,y)\n",
    "r2 = np.add(x,y)\n",
    "r3 = np.dot(x,3)\n",
    "print(f\"Hasil perkalian dot product : {r1}\")\n",
    "print(f\"Hasil penjumlahan matriks :\\n{r2}\")\n",
    "print(f\"Hasil dot prodct dengan 3:\\n{r3}\")"
   ]
  },
  {
   "cell_type": "code",
   "execution_count": 49,
   "id": "9caa9b3d",
   "metadata": {},
   "outputs": [
    {
     "name": "stdout",
     "output_type": "stream",
     "text": [
      "Nilai Pemrograman:\n",
      "[100  90  80  80  50  50  50  40]\n",
      "Nilai terkecil:\n",
      "40\n",
      "Nilai terbesar:\n",
      "100\n",
      "Nilai rata-rata:\n",
      "67.5\n",
      "Total nilai:\n",
      "540\n",
      "Nilai tengah:\n",
      "65.0\n",
      "Nilai Deviasi\n",
      "21.065374432940896\n",
      "[100  90  80  80]\n",
      "jumllah mahasiswa yang lulus :4\n"
     ]
    }
   ],
   "source": [
    "#fungsi statistk dasar\n",
    "nilaiPemrograman = np.array([100,90,80,80,50,50,50,40])\n",
    "nilaiMin = np.min(nilaiPemrograman)\n",
    "nilaiMax = np.max(nilaiPemrograman)\n",
    "nilaiMean = np.mean(nilaiPemrograman)\n",
    "nilaiSum = np.sum(nilaiPemrograman)\n",
    "nilaiMedian = np.median(nilaiPemrograman)\n",
    "nilaiStd = np.std(nilaiPemrograman)\n",
    "\n",
    "print(f\"Nilai Pemrograman:\\n{nilaiPemrograman}\")\n",
    "print(f\"Nilai terkecil:\\n{nilaiMin}\")\n",
    "print(f\"Nilai terbesar:\\n{nilaiMax}\")\n",
    "print(f\"Nilai rata-rata:\\n{nilaiMean}\")\n",
    "print(f\"Total nilai:\\n{nilaiSum}\")\n",
    "print(f\"Nilai tengah:\\n{nilaiMedian}\")\n",
    "print(f\"Nilai Deviasi\\n{nilaiStd}\")\n",
    "\n",
    "dataLulus = nilaiPemrograman [nilaiPemrograman > 50]\n",
    "print(dataLulus)\n",
    "print(f\"jumllah mahasiswa yang lulus :{dataLulus.size}\")"
   ]
  }
 ],
 "metadata": {
  "kernelspec": {
   "display_name": "Python 3 (ipykernel)",
   "language": "python",
   "name": "python3"
  },
  "language_info": {
   "codemirror_mode": {
    "name": "ipython",
    "version": 3
   },
   "file_extension": ".py",
   "mimetype": "text/x-python",
   "name": "python",
   "nbconvert_exporter": "python",
   "pygments_lexer": "ipython3",
   "version": "3.9.12"
  }
 },
 "nbformat": 4,
 "nbformat_minor": 5
}
