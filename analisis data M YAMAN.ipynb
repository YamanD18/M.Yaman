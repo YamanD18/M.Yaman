{
 "cells": [
  {
   "cell_type": "code",
   "execution_count": 11,
   "id": "b9adea8d-b9fc-40bc-9eb5-2dbc3d901df6",
   "metadata": {},
   "outputs": [
    {
     "name": "stdout",
     "output_type": "stream",
     "text": [
      "Statistik Usia Siswa:\n",
      "  Rata-rata: 17.32\n",
      "  Usia Minimum: 15 Maksimum: 20\n",
      "\n",
      "Statistik Nilai Ujian:\n",
      "  Rata-rata: 50.45\n",
      "  Nilai Minimum: 0 Maksimum: 100\n",
      "\n",
      "Statistik Absensi:\n",
      "  Rata-rata: 51.49\n",
      "  Absensi Minimum: 0 Maksimum: 100\n",
      "\n",
      "Distribusi Jenis Kelamin: {'Perempuan': 507, 'Laki-laki': 493}\n",
      "Distribusi Kota Asal: {'Bandung': 201, 'Medan': 198, 'Yogyakarta': 200, 'Surabaya': 200, 'Jakarta': 201}\n",
      "Distribusi Jurusan: {'Bahasa': 344, 'IPS': 330, 'IPA': 326}\n",
      "Distribusi Status Belajar: {'Cukup': 356, 'Rajin': 339, 'Malas': 305}\n",
      "Distribusi Ekstrakurikuler: {'Tidak Aktif': 484, 'Aktif': 516}\n",
      "Distribusi kelulusan: {1: 480, 0: 520}\n"
     ]
    }
   ],
   "source": [
    "import random\n",
    "import statistics\n",
    "from collections import Counter\n",
    "\n",
    "# Data referensi (kategori)\n",
    "jenis_kelamin = ['Laki-laki', 'Perempuan']\n",
    "status_belajar = ['Rajin', 'Cukup', 'Malas']\n",
    "kota = ['Jakarta', 'Bandung', 'Surabaya', 'Medan', 'Yogyakarta']\n",
    "jurusan = ['IPA', 'IPS', 'Bahasa']\n",
    "status_lulus = [0, 1]  # 0 = Tidak lulus, 1 = Lulus\n",
    "\n",
    "\n",
    "data_siswa = []\n",
    "\n",
    "for i in range(1, 1001):\n",
    "    siswa = {\n",
    "        'id': i,\n",
    "        'usia': random.randint(15, 20),\n",
    "        'jenis_kelamin': random.choice(jenis_kelamin),\n",
    "        'kota': random.choice(kota),\n",
    "        'jurusan': random.choice(jurusan),\n",
    "        'status_belajar': random.choice(status_belajar),\n",
    "        'nilai_ujian': random.randint(0, 100),\n",
    "        'absensi': random.randint(0, 100),\n",
    "        'ekstrakurikuler': random.choice(['Aktif', 'Tidak Aktif']),\n",
    "        'lulus': random.choice(status_lulus)\n",
    "    }\n",
    "    data_siswa.append(siswa)\n",
    "\n",
    "\n",
    "usia = [s['usia'] for s in data_siswa]\n",
    "nilai = [s['nilai_ujian'] for s in data_siswa]\n",
    "absensi = [s['absensi'] for s in data_siswa]\n",
    "\n",
    "print(\"Statistik Usia Siswa:\")\n",
    "print(\"  Rata-rata:\", round(statistics.mean(usia), 2))\n",
    "print(\"  Usia Minimum:\", min(usia), \"Maksimum:\", max(usia))\n",
    "\n",
    "print(\"\\nStatistik Nilai Ujian:\")\n",
    "print(\"  Rata-rata:\", round(statistics.mean(nilai), 2))\n",
    "print(\"  Nilai Minimum:\", min(nilai), \"Maksimum:\", max(nilai))\n",
    "\n",
    "print(\"\\nStatistik Absensi:\")\n",
    "print(\"  Rata-rata:\", round(statistics.mean(absensi), 2))\n",
    "print(\"  Absensi Minimum:\", min(absensi), \"Maksimum:\", max(absensi))\n",
    "\n",
    "# Distribusi Kategori\n",
    "print(\"\\nDistribusi Jenis Kelamin:\", dict(Counter(s['jenis_kelamin'] for s in data_siswa)))\n",
    "print(\"Distribusi Kota Asal:\", dict(Counter(s['kota'] for s in data_siswa)))\n",
    "print(\"Distribusi Jurusan:\", dict(Counter(s['jurusan'] for s in data_siswa)))\n",
    "print(\"Distribusi Status Belajar:\", dict(Counter(s['status_belajar'] for s in data_siswa)))\n",
    "print(\"Distribusi Ekstrakurikuler:\", dict(Counter(s['ekstrakurikuler'] for s in data_siswa)))\n",
    "print(\"Distribusi kelulusan:\", dict(Counter([s['lulus'] for s in data_siswa])))\n"
   ]
  }
 ],
 "metadata": {
  "kernelspec": {
   "display_name": "Python 3 (ipykernel)",
   "language": "python",
   "name": "python3"
  },
  "language_info": {
   "codemirror_mode": {
    "name": "ipython",
    "version": 3
   },
   "file_extension": ".py",
   "mimetype": "text/x-python",
   "name": "python",
   "nbconvert_exporter": "python",
   "pygments_lexer": "ipython3",
   "version": "3.12.7"
  }
 },
 "nbformat": 4,
 "nbformat_minor": 5
}
